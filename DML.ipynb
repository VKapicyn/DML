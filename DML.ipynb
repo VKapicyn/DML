{
 "cells": [
  {
   "cell_type": "code",
   "execution_count": 1,
   "id": "included-mumbai",
   "metadata": {},
   "outputs": [],
   "source": [
    "from facenet_pytorch import InceptionResnetV1, fixed_image_standardization\n",
    "import numpy as np\n",
    "import pandas as pd\n",
    "import matplotlib.pyplot as plt\n",
    "import seaborn as sns\n",
    "import os\n",
    "from PIL import Image\n",
    "import random\n",
    "import torch\n",
    "\n",
    "from torchvision.datasets import ImageFolder\n",
    "from torchvision import transforms\n",
    "from torchvision import models as models\n",
    "import torch.nn as nn\n",
    "import torchvision\n",
    "import torch.optim as optim\n",
    "from torch.backends import cudnn\n",
    "from torch.utils.data import Dataset, DataLoader\n",
    "\n",
    "from sklearn.preprocessing import LabelEncoder\n",
    "from sklearn.model_selection import StratifiedShuffleSplit\n",
    "from sklearn.compose import ColumnTransformer, make_column_transformer, make_column_selector\n",
    "from sklearn.metrics import accuracy_score\n",
    "from scipy.stats import sem\n",
    "from sklearn.metrics import confusion_matrix\n",
    "\n",
    "from collections import defaultdict\n",
    "\n",
    "import albumentations as A"
   ]
  },
  {
   "cell_type": "code",
   "execution_count": 2,
   "id": "dedicated-artist",
   "metadata": {},
   "outputs": [],
   "source": [
    "dataset_path = 'dataset/'\n",
    "image_path = dataset_path+'faces/'"
   ]
  },
  {
   "cell_type": "code",
   "execution_count": 3,
   "id": "everyday-perception",
   "metadata": {},
   "outputs": [],
   "source": [
    "# добавляем рандом\n",
    "def seed_everything(seed):\n",
    "    os.environ[\"PYTHONHASHSEED\"] = str(seed)\n",
    "    random.seed(seed)\n",
    "    np.random.seed(seed)\n",
    "    torch.manual_seed(seed)\n",
    "    #torch.cuda.manual_seed(seed)\n",
    "\n",
    "random_seed = 1120\n",
    "seed_everything(random_seed)"
   ]
  },
  {
   "cell_type": "code",
   "execution_count": 4,
   "id": "emerging-collapse",
   "metadata": {},
   "outputs": [],
   "source": [
    "# Преобразуем возрастные лейблы в 8 категорий\n",
    "group_8class_age ={\n",
    "    '0-2':['(0, 2)','2'],\n",
    "    '4-6':['(4, 6)'],\n",
    "    '8-13':['(8, 12)','13'],\n",
    "    '15-20':['(15, 20)'],\n",
    "    '25-32':['(25, 32)','(27, 32)','32','29'],\n",
    "    '38-43':['(38, 43)','35', '36', '42','(38, 42)'],\n",
    "    '48-53':['(48, 53)','42'],\n",
    "    '60-':['(60, 100)']\n",
    "}\n",
    "\n",
    "# Алтернативное группирование, по 4ем категориям\n",
    "group_4class_age={\n",
    "'Личинус (0-6)':    ['(0, 2)', '2', '(4, 6)', '3'],\n",
    "'Щегол (8-23)': ['(8, 12)', '(15, 20)', '(8, 23)', '23', '22', '13'],\n",
    "'Бумер (25-32)':  ['(25, 32)', '(27, 32)', '32', '34', '29'],\n",
    "'Старпёр 35+':  ['(48, 53)', '(60, 100)', '55','56','57', '58', '(38, 42)','(38, 43)', '(38, 48)', '35', '36', '46', '45', '42'],\n",
    "}"
   ]
  },
  {
   "cell_type": "code",
   "execution_count": 5,
   "id": "failing-trout",
   "metadata": {},
   "outputs": [],
   "source": [
    "# формируем лейблы на основе категорий\n",
    "def map_age(group_to_age):\n",
    "    age_to_group = {}\n",
    "    for group in group_to_age.keys():\n",
    "        age = group_to_age[group]\n",
    "        for aa in age:\n",
    "            age_to_group[aa] = group\n",
    "    return age_to_group\n",
    "\n",
    "# берем группировку из 4ех категорий\n",
    "age_grouping = group_4class_age\n",
    "age_to_label = map_age(age_grouping)"
   ]
  },
  {
   "cell_type": "code",
   "execution_count": null,
   "id": "flush-victim",
   "metadata": {},
   "outputs": [],
   "source": []
  },
  {
   "cell_type": "code",
   "execution_count": 6,
   "id": "third-breach",
   "metadata": {},
   "outputs": [],
   "source": [
    "#считываем размеченный данные\n",
    "test_fold = [pd.read_csv(f\"{dataset_path}fold_0_data.txt\",sep = \"\\t\")]\n",
    "test_fold.append(pd.read_csv(f\"{dataset_path}fold_1_data.txt\",sep = \"\\t\"))\n",
    "test_fold.append(pd.read_csv(f\"{dataset_path}fold_2_data.txt\",sep = \"\\t\"))\n",
    "test_fold.append(pd.read_csv(f\"{dataset_path}fold_3_data.txt\",sep = \"\\t\"))\n",
    "test_fold.append(pd.read_csv(f\"{dataset_path}fold_4_data.txt\",sep = \"\\t\"))\n",
    "\n",
    "all_age_group = pd.concat([test_fold[0],test_fold[1],test_fold[2], test_fold[3],test_fold[4]]).age.value_counts()\n",
    "all_age_group = list(all_age_group.index)"
   ]
  },
  {
   "cell_type": "code",
   "execution_count": 7,
   "id": "fancy-modern",
   "metadata": {},
   "outputs": [
    {
     "name": "stdout",
     "output_type": "stream",
     "text": [
      "Fold 1  : (3995, 3)\n",
      "\n",
      "Fold 2  : (3597, 3)\n",
      "\n",
      "Fold 3  : (3124, 3)\n",
      "\n",
      "Fold 4  : (3291, 3)\n",
      "\n",
      "Fold 5  : (3445, 3)\n",
      "\n"
     ]
    }
   ],
   "source": [
    "drop_columns=['user_id', 'original_image', 'face_id', 'x', 'y', 'dx',\n",
    "       'dy', 'tilt_ang', 'fiducial_yaw_angle', 'fiducial_score']\n",
    "\n",
    "for fold, df in enumerate(test_fold):\n",
    "    \n",
    "    #полный путь до изображения\n",
    "    df['image_path'] = image_path + df['user_id'] + '/coarse_tilt_aligned_face.' + \\\n",
    "        df['face_id'].astype('str') + '.' + df['original_image']\n",
    "   \n",
    "    #удаляем лишние колонки\n",
    "    df.drop(drop_columns, axis=1, inplace=True)\n",
    "    \n",
    "    df.gender = df.gender.astype(str)\n",
    "    df.age = df.age.astype(str)\n",
    "    \n",
    "    #удаляем строки с пустыми значениями\n",
    "    df.drop(df[df.gender == 'u'].index, inplace=True)\n",
    "    df.drop(df[df.gender == 'nan'].index, inplace=True)\n",
    "    df.drop(df[df.age == 'None'].index, inplace=True)\n",
    "    \n",
    "    #лейбл возраста -> лейбл возрастной категории\n",
    "    include_age = list(age_to_label.keys())\n",
    "    exclude_age = list(set(all_age_group) - set(include_age))\n",
    "    \n",
    "    #удаляем если вдруг не попало ни в одну возрастную категорию\n",
    "    for exc_age in exclude_age:\n",
    "        df.drop(df.loc[df['age']==exc_age].index, inplace=True)\n",
    "        \n",
    "    #упорядочиваем индексы по возрасту\n",
    "    df['age'] = df['age'].apply(lambda x: age_to_label[x])\n",
    "    \n",
    "    print(f'Fold {fold+1}  : {df.shape}\\n')"
   ]
  },
  {
   "cell_type": "code",
   "execution_count": 8,
   "id": "designing-tender",
   "metadata": {},
   "outputs": [
    {
     "name": "stdout",
     "output_type": "stream",
     "text": [
      "Fold 1  : (13457, 3)\n",
      "Fold 2  : (13855, 3)\n",
      "Fold 3  : (14328, 3)\n",
      "Fold 4  : (14161, 3)\n",
      "Fold 5  : (14007, 3)\n"
     ]
    }
   ],
   "source": [
    "# 5 тренировочных фолдов, в виде разной последовтальности тестовых? кажется над переделать\n",
    "train_fold = [pd.concat([test_fold[1],test_fold[2],test_fold[3],test_fold[4]],ignore_index=True)]\n",
    "train_fold.append(pd.concat([test_fold[0],test_fold[2],test_fold[3],test_fold[4]],ignore_index=True))\n",
    "train_fold.append(pd.concat([test_fold[0],test_fold[1],test_fold[3],test_fold[4]],ignore_index=True))\n",
    "train_fold.append(pd.concat([test_fold[0],test_fold[1],test_fold[2],test_fold[4]],ignore_index=True))\n",
    "train_fold.append(pd.concat([test_fold[0],test_fold[1],test_fold[2],test_fold[3]],ignore_index=True))\n",
    "\n",
    "# датафрейм со всем фолдами\n",
    "all_fold = pd.concat([test_fold[0],test_fold[1],test_fold[2],test_fold[3],test_fold[4]],ignore_index=True)\n",
    "\n",
    "for k, fold in enumerate(train_fold):\n",
    "    print(f'Fold {k+1}  : {fold.shape}')"
   ]
  },
  {
   "cell_type": "code",
   "execution_count": 9,
   "id": "literary-familiar",
   "metadata": {},
   "outputs": [],
   "source": [
    "# приводим значения к числовым\n",
    "gender_to_label_map = {\n",
    "    'f' : 0,\n",
    "    'm' : 1\n",
    "}\n",
    "\n",
    "# приводим значения к числовым\n",
    "age_to_label_map = {\n",
    "    'Личинус (0-6)' :0,\n",
    "    'Щегол (8-23)' :1,\n",
    "    'Бумер (25-32)' :2,\n",
    "    'Старпёр 35+' :3\n",
    "}\n",
    "\n",
    "label_to_age_map = {value: key for key, value in age_to_label_map.items()}\n",
    "label_to_gender_map = {value: key for key, value in gender_to_label_map.items()}\n",
    "\n",
    "all_fold['age'].replace(age_to_label_map, inplace=True)\n",
    "all_fold['gender'].replace(gender_to_label_map, inplace=True)\n",
    "\n",
    "for i, fold in enumerate(train_fold):\n",
    "    fold['age'].replace(age_to_label_map, inplace=True)\n",
    "    fold['gender'].replace(gender_to_label_map, inplace=True)\n",
    "\n",
    "for i, fold in enumerate(test_fold):\n",
    "    fold['age'].replace(age_to_label_map, inplace=True)\n",
    "    fold['gender'].replace(gender_to_label_map, inplace=True)"
   ]
  },
  {
   "cell_type": "code",
   "execution_count": 10,
   "id": "committed-science",
   "metadata": {},
   "outputs": [],
   "source": [
    "###\n",
    "### Предобработка данных\n",
    "###"
   ]
  },
  {
   "cell_type": "code",
   "execution_count": 11,
   "id": "looking-batman",
   "metadata": {},
   "outputs": [
    {
     "data": {
      "image/png": "[encoded data removed]",
      "text/plain": [
       "<Figure size 432x288 with 1 Axes>"
      ]
     },
     "metadata": {
      "needs_background": "light"
     },
     "output_type": "display_data"
    }
   ],
   "source": [
    "def show_image(img_filename, age, gender):\n",
    "    img = Image.open(img_filename)\n",
    "    plt.imshow(img)\n",
    "    plt.title(f'size (w, h): {img.size}, age: {age}, gender: {gender}')\n",
    "    plt.show()\n",
    "\n",
    "idx = np.random.randint(all_fold.shape[0])\n",
    "fname = all_fold['image_path'].iloc[idx]\n",
    "age = label_to_age_map[all_fold['age'][idx]]\n",
    "gender = label_to_gender_map[all_fold['gender'][idx]]\n",
    "show_image(fname, age, gender)"
   ]
  },
  {
   "cell_type": "code",
   "execution_count": 12,
   "id": "divine-bride",
   "metadata": {},
   "outputs": [],
   "source": [
    "###\n",
    "### Классы моделей + аугментация (рамки)\n",
    "###"
   ]
  },
  {
   "cell_type": "code",
   "execution_count": 13,
   "id": "auburn-modern",
   "metadata": {},
   "outputs": [],
   "source": [
    "trans = transforms.Compose([\n",
    "    np.float32,\n",
    "    transforms.ToTensor(),\n",
    "    fixed_image_standardization\n",
    "])"
   ]
  },
  {
   "cell_type": "code",
   "execution_count": 14,
   "id": "reasonable-software",
   "metadata": {},
   "outputs": [],
   "source": [
    "class AgeDataset(Dataset):\n",
    "    def __init__(self, path, image_files, labels_age, labels_gender, p_augment=0.5,  validation=False):\n",
    "        self.path = path\n",
    "        self.X = image_files\n",
    "        self.y_age = labels_age\n",
    "        self.y_gender = labels_gender\n",
    "        self.resize = A.Resize(160, 160, always_apply=True)\n",
    "        self.transform = trans\n",
    "        \n",
    "    def __len__(self):\n",
    "        return (len(self.X))\n",
    "    \n",
    "    def __getitem__(self, i):\n",
    "        image = Image.open(self.path + self.X[i])\n",
    "        image = np.asarray(image)\n",
    "        image = self.resize(image=image)['image']\n",
    "        image = self.transform(image)\n",
    "        label_age = self.y_age[i]\n",
    "        label_gender = self.y_gender[i]\n",
    "        \n",
    "        return torch.tensor(image, dtype=torch.float), torch.tensor(label_age, dtype=torch.long)"
   ]
  },
  {
   "cell_type": "code",
   "execution_count": 15,
   "id": "governing-relation",
   "metadata": {},
   "outputs": [],
   "source": [
    "class GenderDataset(Dataset):\n",
    "    def __init__(self, path, image_files, labels_age, labels_gender, p_augment=0.5,  validation=False):\n",
    "        self.path = path\n",
    "        self.X = image_files\n",
    "        self.y_age = labels_age\n",
    "        self.y_gender = labels_gender\n",
    "        self.resize = A.Resize(160, 160, always_apply=True)\n",
    "        self.transform = trans\n",
    "        \n",
    "    def __len__(self):\n",
    "        return (len(self.X))\n",
    "    \n",
    "    def __getitem__(self, i):\n",
    "        image = Image.open(self.path + self.X[i])\n",
    "        image = np.asarray(image)\n",
    "        image = self.resize(image=image)['image']\n",
    "        image = self.transform(image)\n",
    "        label_age = self.y_age[i]\n",
    "        label_gender = self.y_gender[i]\n",
    "        \n",
    "        return torch.tensor(image, dtype=torch.float), torch.tensor(label_gender, dtype=torch.long)"
   ]
  },
  {
   "cell_type": "code",
   "execution_count": 48,
   "id": "favorite-handle",
   "metadata": {},
   "outputs": [
    {
     "name": "stdout",
     "output_type": "stream",
     "text": [
      "Training data: 12111\n",
      "Val. data: 1346\n",
      "Training data: 12469\n",
      "Val. data: 1386\n",
      "Training data: 12895\n",
      "Val. data: 1433\n",
      "Training data: 12744\n",
      "Val. data: 1417\n",
      "Training data: 12606\n",
      "Val. data: 1401\n"
     ]
    }
   ],
   "source": [
    "train_split={}\n",
    "val_split={}\n",
    "\n",
    "for fold in range(5):\n",
    "    #create train-validation stratified split\n",
    "    sss = StratifiedShuffleSplit(n_splits=10, random_state=random_seed)\n",
    "    \n",
    "    train_data = train_fold[fold]['image_path'].copy().reset_index(drop=True).to_list()\n",
    "    train_gender_label = train_fold[fold]['gender'].copy().reset_index(drop=True).to_list()\n",
    "    train_age_label = train_fold[fold]['age'].copy().reset_index(drop=True).to_list()\n",
    "    train_idx, val_idx = list(sss.split(train_data, train_age_label))[0]\n",
    "    \n",
    "    print(f'Training data: {len(train_idx)}')\n",
    "    print(f'Val. data: {len(val_idx)}')"
   ]
  },
  {
   "cell_type": "code",
   "execution_count": 17,
   "id": "colored-allocation",
   "metadata": {},
   "outputs": [],
   "source": [
    "###\n",
    "### Гиперпараметры (!!! говнокод. Переделать!!!)\n",
    "###"
   ]
  },
  {
   "cell_type": "code",
   "execution_count": 18,
   "id": "necessary-toronto",
   "metadata": {},
   "outputs": [
    {
     "data": {
      "text/plain": [
       "(4, 2)"
      ]
     },
     "execution_count": 18,
     "metadata": {},
     "output_type": "execute_result"
    }
   ],
   "source": [
    "print_sample=True\n",
    "kfold = 5\n",
    "batchsize = 64\n",
    "lr_age = 3e-5\n",
    "lr_gender= 2e-5\n",
    "num_epochs = 10\n",
    "p_augment = 0.0\n",
    "mixup=False\n",
    "augment=False\n",
    "\n",
    "\n",
    "#General parameters\n",
    "lrfinder=False\n",
    "to_predict = 'gender'\n",
    "device = torch.device(\"cpu\")\n",
    "num_age_classes = train_fold[0].age.value_counts().shape[0]\n",
    "num_gender_classes = train_fold[0].gender.value_counts().shape[0]\n",
    "num_age_classes, num_gender_classes"
   ]
  },
  {
   "cell_type": "code",
   "execution_count": 19,
   "id": "domestic-bishop",
   "metadata": {},
   "outputs": [],
   "source": [
    "#--- Что тут происходит??? ----"
   ]
  },
  {
   "cell_type": "code",
   "execution_count": 20,
   "id": "understanding-crest",
   "metadata": {},
   "outputs": [],
   "source": [
    "def mixup_data(x, y, alpha=1.0, use_cuda=False):\n",
    "\n",
    "    if alpha > 0.:\n",
    "        lam = np.random.beta(alpha, alpha)\n",
    "    else:\n",
    "        lam = 1.\n",
    "    batch_size = x.size()[0]\n",
    "    if use_cuda:\n",
    "        index = torch.randperm(batch_size).cuda()\n",
    "    else:\n",
    "        index = torch.randperm(batch_size)\n",
    "\n",
    "    mixed_x = lam * x + (1 - lam) * x[index,:]\n",
    "    y_a, y_b = y, y[index]\n",
    "\n",
    "    return mixed_x, y_a, y_b, lam\n",
    "\n",
    "\n",
    "def mixup_criterion(y_a, y_b, lam):\n",
    "    return lambda criterion, pred: lam * criterion(pred, y_a) + (1 - lam) * criterion(pred, y_b)"
   ]
  },
  {
   "cell_type": "code",
   "execution_count": 21,
   "id": "crucial-rental",
   "metadata": {},
   "outputs": [],
   "source": [
    "###\n",
    "### Обучение\n",
    "###"
   ]
  },
  {
   "cell_type": "code",
   "execution_count": 22,
   "id": "greatest-wagner",
   "metadata": {},
   "outputs": [],
   "source": [
    "#--- Классифиуируем только возраст  ----"
   ]
  },
  {
   "cell_type": "code",
   "execution_count": 24,
   "id": "nutritional-lotus",
   "metadata": {},
   "outputs": [
    {
     "name": "stdout",
     "output_type": "stream",
     "text": [
      "2\n"
     ]
    }
   ],
   "source": [
    "print(num_gender_classes)"
   ]
  },
  {
   "cell_type": "code",
   "execution_count": 23,
   "id": "swedish-brick",
   "metadata": {},
   "outputs": [
    {
     "name": "stdout",
     "output_type": "stream",
     "text": [
      "Fold 1\n",
      "\n",
      "epoch: 0\n",
      "\n",
      "trained: 0\n",
      "\n"
     ]
    },
    {
     "name": "stderr",
     "output_type": "stream",
     "text": [
      "<ipython-input-15-c5aa7d387409>:21: UserWarning: To copy construct from a tensor, it is recommended to use sourceTensor.clone().detach() or sourceTensor.clone().detach().requires_grad_(True), rather than torch.tensor(sourceTensor).\n",
      "  return torch.tensor(image, dtype=torch.float), torch.tensor(label_gender, dtype=torch.long)\n"
     ]
    },
    {
     "name": "stdout",
     "output_type": "stream",
     "text": [
      "Epoch 0 | train loss: 0.18190792947027243 | val loss: 0.07678648994558236 | accuracy: 97.55%\n"
     ]
    },
    {
     "name": "stderr",
     "output_type": "stream",
     "text": [
      "<ipython-input-15-c5aa7d387409>:21: UserWarning: To copy construct from a tensor, it is recommended to use sourceTensor.clone().detach() or sourceTensor.clone().detach().requires_grad_(True), rather than torch.tensor(sourceTensor).\n",
      "  return torch.tensor(image, dtype=torch.float), torch.tensor(label_gender, dtype=torch.long)\n"
     ]
    },
    {
     "name": "stdout",
     "output_type": "stream",
     "text": [
      "TEST ACCURACY: 94.84% | Val. Accuracy: 97.55% | Val. Loss.: 0.07678648994558236\n",
      "\n",
      "Fold 2\n",
      "\n",
      "epoch: 0\n",
      "\n",
      "trained: 0\n",
      "\n"
     ]
    },
    {
     "name": "stderr",
     "output_type": "stream",
     "text": [
      "<ipython-input-15-c5aa7d387409>:21: UserWarning: To copy construct from a tensor, it is recommended to use sourceTensor.clone().detach() or sourceTensor.clone().detach().requires_grad_(True), rather than torch.tensor(sourceTensor).\n",
      "  return torch.tensor(image, dtype=torch.float), torch.tensor(label_gender, dtype=torch.long)\n"
     ]
    },
    {
     "ename": "KeyboardInterrupt",
     "evalue": "",
     "output_type": "error",
     "traceback": [
      "\u001b[0;31m---------------------------------------------------------------------------\u001b[0m",
      "\u001b[0;31mKeyboardInterrupt\u001b[0m                         Traceback (most recent call last)",
      "\u001b[0;32m<ipython-input-23-28b534dc7c41>\u001b[0m in \u001b[0;36m<module>\u001b[0;34m\u001b[0m\n\u001b[1;32m    119\u001b[0m \u001b[0;34m\u001b[0m\u001b[0m\n\u001b[1;32m    120\u001b[0m                     \u001b[0mtrain_loss_gender\u001b[0m \u001b[0;34m+=\u001b[0m \u001b[0mloss_gender\u001b[0m\u001b[0;34m.\u001b[0m\u001b[0mdetach\u001b[0m\u001b[0;34m(\u001b[0m\u001b[0;34m)\u001b[0m\u001b[0;34m.\u001b[0m\u001b[0mitem\u001b[0m\u001b[0;34m(\u001b[0m\u001b[0;34m)\u001b[0m\u001b[0;34m\u001b[0m\u001b[0;34m\u001b[0m\u001b[0m\n\u001b[0;32m--> 121\u001b[0;31m                     \u001b[0mloss_gender\u001b[0m\u001b[0;34m.\u001b[0m\u001b[0mbackward\u001b[0m\u001b[0;34m(\u001b[0m\u001b[0;34m)\u001b[0m\u001b[0;34m\u001b[0m\u001b[0;34m\u001b[0m\u001b[0m\n\u001b[0m\u001b[1;32m    122\u001b[0m                     \u001b[0moptimizer\u001b[0m\u001b[0;34m.\u001b[0m\u001b[0mstep\u001b[0m\u001b[0;34m(\u001b[0m\u001b[0;34m)\u001b[0m\u001b[0;34m\u001b[0m\u001b[0;34m\u001b[0m\u001b[0m\n\u001b[1;32m    123\u001b[0m \u001b[0;34m\u001b[0m\u001b[0m\n",
      "\u001b[0;32m/usr/local/Cellar/jupyterlab/3.0.12/libexec/lib/python3.9/site-packages/torch/tensor.py\u001b[0m in \u001b[0;36mbackward\u001b[0;34m(self, gradient, retain_graph, create_graph, inputs)\u001b[0m\n\u001b[1;32m    243\u001b[0m                 \u001b[0mcreate_graph\u001b[0m\u001b[0;34m=\u001b[0m\u001b[0mcreate_graph\u001b[0m\u001b[0;34m,\u001b[0m\u001b[0;34m\u001b[0m\u001b[0;34m\u001b[0m\u001b[0m\n\u001b[1;32m    244\u001b[0m                 inputs=inputs)\n\u001b[0;32m--> 245\u001b[0;31m         \u001b[0mtorch\u001b[0m\u001b[0;34m.\u001b[0m\u001b[0mautograd\u001b[0m\u001b[0;34m.\u001b[0m\u001b[0mbackward\u001b[0m\u001b[0;34m(\u001b[0m\u001b[0mself\u001b[0m\u001b[0;34m,\u001b[0m \u001b[0mgradient\u001b[0m\u001b[0;34m,\u001b[0m \u001b[0mretain_graph\u001b[0m\u001b[0;34m,\u001b[0m \u001b[0mcreate_graph\u001b[0m\u001b[0;34m,\u001b[0m \u001b[0minputs\u001b[0m\u001b[0;34m=\u001b[0m\u001b[0minputs\u001b[0m\u001b[0;34m)\u001b[0m\u001b[0;34m\u001b[0m\u001b[0;34m\u001b[0m\u001b[0m\n\u001b[0m\u001b[1;32m    246\u001b[0m \u001b[0;34m\u001b[0m\u001b[0m\n\u001b[1;32m    247\u001b[0m     \u001b[0;32mdef\u001b[0m \u001b[0mregister_hook\u001b[0m\u001b[0;34m(\u001b[0m\u001b[0mself\u001b[0m\u001b[0;34m,\u001b[0m \u001b[0mhook\u001b[0m\u001b[0;34m)\u001b[0m\u001b[0;34m:\u001b[0m\u001b[0;34m\u001b[0m\u001b[0;34m\u001b[0m\u001b[0m\n",
      "\u001b[0;32m/usr/local/Cellar/jupyterlab/3.0.12/libexec/lib/python3.9/site-packages/torch/autograd/__init__.py\u001b[0m in \u001b[0;36mbackward\u001b[0;34m(tensors, grad_tensors, retain_graph, create_graph, grad_variables, inputs)\u001b[0m\n\u001b[1;32m    143\u001b[0m         \u001b[0mretain_graph\u001b[0m \u001b[0;34m=\u001b[0m \u001b[0mcreate_graph\u001b[0m\u001b[0;34m\u001b[0m\u001b[0;34m\u001b[0m\u001b[0m\n\u001b[1;32m    144\u001b[0m \u001b[0;34m\u001b[0m\u001b[0m\n\u001b[0;32m--> 145\u001b[0;31m     Variable._execution_engine.run_backward(\n\u001b[0m\u001b[1;32m    146\u001b[0m         \u001b[0mtensors\u001b[0m\u001b[0;34m,\u001b[0m \u001b[0mgrad_tensors_\u001b[0m\u001b[0;34m,\u001b[0m \u001b[0mretain_graph\u001b[0m\u001b[0;34m,\u001b[0m \u001b[0mcreate_graph\u001b[0m\u001b[0;34m,\u001b[0m \u001b[0minputs\u001b[0m\u001b[0;34m,\u001b[0m\u001b[0;34m\u001b[0m\u001b[0;34m\u001b[0m\u001b[0m\n\u001b[1;32m    147\u001b[0m         allow_unreachable=True, accumulate_grad=True)  # allow_unreachable flag\n",
      "\u001b[0;31mKeyboardInterrupt\u001b[0m: "
     ]
    }
   ],
   "source": [
    "if to_predict == 'gender':\n",
    "    all_accuracy_gender = []\n",
    "    all_val_loss_gender = []\n",
    "    all_stat_fold = []\n",
    "    \n",
    "    for fold in range(kfold):\n",
    "        all_stat = defaultdict(list)\n",
    "        \n",
    "        # image paths\n",
    "        train_data = train_fold[fold]['image_path'].copy().reset_index(drop=True).to_list()\n",
    "        test_data  = test_fold[fold]['image_path'].copy().reset_index(drop=True).to_list()\n",
    "    \n",
    "        #get label\n",
    "        train_age_label = train_fold[fold]['age'].copy().reset_index(drop=True).to_list()\n",
    "        train_gender_label = train_fold[fold]['gender'].copy().reset_index(drop=True).to_list()\n",
    "        test_age_label = test_fold[fold]['age'].copy().reset_index(drop=True).to_list()\n",
    "        test_gender_label = test_fold[fold]['gender'].copy().reset_index(drop=True).to_list()\n",
    "    \n",
    "        #create train-validation stratified split\n",
    "        sss = StratifiedShuffleSplit(n_splits=10, random_state=random_seed)\n",
    "    \n",
    "        #split based on age, more balanced for both age and gender\n",
    "        train_idx, val_idx = list(sss.split(train_data, train_gender_label))[0]\n",
    "    \n",
    "        train_idx = list(train_idx)\n",
    "        val_idx = list(val_idx)\n",
    "    \n",
    "        #create dataloader for gender\n",
    "        train_dataset = GenderDataset('', \n",
    "                                          list(np.array(train_data)[train_idx]), \n",
    "                                          list(np.array(train_age_label)[train_idx]),\n",
    "                                          list(np.array(train_gender_label)[train_idx]),\n",
    "                                          p_augment = p_augment)\n",
    "        val_dataset   = GenderDataset('', \n",
    "                                          list(np.array(train_data)[val_idx]), \n",
    "                                          list(np.array(train_age_label)[val_idx]),\n",
    "                                          list(np.array(train_gender_label)[val_idx]),\n",
    "                                          validation=True)\n",
    "        test_dataset = GenderDataset('', \n",
    "                                  test_data, \n",
    "                                  test_age_label,\n",
    "                                  test_gender_label, \n",
    "                                  validation=True)\n",
    "    \n",
    "    \n",
    "        train_loader = DataLoader(train_dataset, batch_size=batchsize, shuffle=True)\n",
    "        val_loader   = DataLoader(val_dataset, batch_size=batchsize, shuffle=False)\n",
    "        test_loader = DataLoader(test_dataset, batch_size=batchsize, shuffle=False)\n",
    "    \n",
    "        val_gender_label = list(np.array(train_gender_label)[val_idx])\n",
    "        val_age_label = list(np.array(train_age_label)[val_idx])\n",
    "    \n",
    "    \n",
    "        model = InceptionResnetV1(\n",
    "                        classify=True,\n",
    "                        pretrained='vggface2',\n",
    "                        num_classes=num_gender_classes)\n",
    "        model = model.to(device)\n",
    "    \n",
    "        #optimizer\n",
    "        optimizer = optim.AdamW(model.parameters(), lr = lr_gender)\n",
    "        scheduler = optim.lr_scheduler.MultiStepLR(optimizer, [5,10])\n",
    "    \n",
    "        #loss\n",
    "        criterion = nn.CrossEntropyLoss()\n",
    "        \n",
    "        if lrfinder ==True:\n",
    "            !pip install torch-lr-finder\n",
    "            from torch_lr_finder import LRFinder\n",
    "            \n",
    "            lr_finder = LRFinder(model, optimizer, criterion)\n",
    "            lr_finder.range_test(train_loader, end_lr=2, num_iter=500)\n",
    "            lr_finder.plot() # to inspect the loss-learning rate graph\n",
    "            lr_finder.reset() # to reset the model and optimizer to their initial state\n",
    "            \n",
    "        best_acc_gender = 0\n",
    "        best_val_loss_gender = 999\n",
    "        print(f'Fold {fold+1}\\n')\n",
    "        for epoch in range(num_epochs):\n",
    "            print(f'epoch: {epoch}\\n')\n",
    "            train_loss_gender = 0\n",
    "            val_loss_gender = 0\n",
    "        \n",
    "            #Training\n",
    "            model.train()\n",
    "            print(f'trained: {epoch}\\n')\n",
    "            for batch in train_loader:\n",
    "    \n",
    "                # Load image batch\n",
    "                batch_data, batch_gender_label = batch\n",
    "                batch_data = batch_data.to(device)\n",
    "                batch_gender_label = batch_gender_label.to(device)\n",
    "                \n",
    "                # Clear gradients\n",
    "                optimizer.zero_grad()\n",
    "            \n",
    "                with torch.set_grad_enabled(True):\n",
    "                    \n",
    "                    if mixup == True:\n",
    "                        # Mixup\n",
    "                        inputs, targets_a, targets_b, lam = mixup_data(batch_data, \n",
    "                                batch_gender_label, alpha= 0.4)\n",
    "                \n",
    "                        # Forward pass\n",
    "                        pred_gender = model(inputs)\n",
    "\n",
    "                        # Loss\n",
    "                        loss_func = mixup_criterion(targets_a, targets_b, lam)\n",
    "                        loss_gender = loss_func(criterion, pred_gender)\n",
    "                    else:\n",
    "                        pred_gender = model(batch_data)\n",
    "                        loss_gender = criterion(pred_gender, batch_gender_label)\n",
    "            \n",
    "                    train_loss_gender += loss_gender.detach().item()\n",
    "                    loss_gender.backward()\n",
    "                    optimizer.step()\n",
    "            \n",
    "            \n",
    "            #Validation\n",
    "            model.eval()\n",
    "            all_pred_gender = torch.empty(0).to(device)\n",
    "            for batch in val_loader:\n",
    "            \n",
    "                # Load image batch\n",
    "                batch_data, batch_gender_label = batch\n",
    "                batch_data = batch_data.to(device)\n",
    "                batch_gender_label = batch_gender_label.to(device)\n",
    "                \n",
    "                with torch.set_grad_enabled(False):\n",
    "                \n",
    "                    pred_gender = model(batch_data)\n",
    "                   \n",
    "                    loss_gender = criterion(pred_gender, batch_gender_label)\n",
    "            \n",
    "                    val_loss_gender += loss_gender.detach().item()\n",
    "                \n",
    "                    all_pred_gender = torch.cat((all_pred_gender, \n",
    "                            nn.functional.softmax(pred_gender.detach(),dim=1)), 0)\n",
    "                \n",
    "        \n",
    "            train_loss_gender /= len(train_loader)\n",
    "            val_loss_gender /= len(val_loader)\n",
    "        \n",
    "            all_pred_gender = all_pred_gender.cpu().numpy()\n",
    "            pred_label_gender = list(np.argmax(all_pred_gender,axis=1))\n",
    "       \n",
    "        \n",
    "            acc_gender = accuracy_score(val_gender_label, pred_label_gender)\n",
    " \n",
    "            if val_loss_gender < best_val_loss_gender:\n",
    "                best_acc_gender=acc_gender\n",
    "                best_val_loss_gender=val_loss_gender\n",
    "                torch.save(model.state_dict(), f'model{fold}.pth')\n",
    "            \n",
    "            all_stat['train_loss'].append(train_loss_gender)\n",
    "            all_stat['val_loss'].append(val_loss_gender)\n",
    "            all_stat['val_acc'].append(acc_gender)\n",
    "            \n",
    "            print(f'Epoch {epoch} | train loss: {train_loss_gender} | val loss: {val_loss_gender} | accuracy: {round(acc_gender*100, 2)}%')\n",
    "            scheduler.step()\n",
    "        \n",
    "        #INFERENCE\n",
    "        with torch.no_grad():\n",
    "            model.load_state_dict(torch.load(f'model{fold}.pth'))\n",
    "            model.eval()\n",
    "            test_pred_gender = torch.empty(0).to(device)\n",
    "            for batch in test_loader:\n",
    "            \n",
    "                # Load image batch\n",
    "                batch_data, batch_gender_label = batch\n",
    "                batch_data = batch_data.to(device)\n",
    "                batch_gender_label = batch_gender_label.to(device)\n",
    "            \n",
    "                with torch.set_grad_enabled(False):\n",
    "                \n",
    "                    pred_gender = model(batch_data)\n",
    "               \n",
    "                    test_pred_gender = torch.cat((test_pred_gender, \n",
    "                            nn.functional.softmax(pred_gender.detach(),dim=1)), 0)\n",
    "                \n",
    "        \n",
    "       \n",
    "        \n",
    "            test_pred_gender = test_pred_gender.cpu().numpy()\n",
    "            pred_label_gender = list(np.argmax(test_pred_gender,axis=1))\n",
    "        \n",
    "            acc_gender = accuracy_score(test_gender_label, pred_label_gender)\n",
    "            all_stat['test_acc'].append(acc_gender)\n",
    "            all_stat['conf'].append(confusion_matrix(test_gender_label, pred_label_gender, labels=list(range(num_gender_classes))))\n",
    "            all_stat['conf_norm'].append(confusion_matrix(test_gender_label, pred_label_gender,normalize='true', labels=list(range(num_gender_classes))))\n",
    "            all_stat['test_pred'].append(pred_label_gender)\n",
    "            all_stat['test_target'].append(test_gender_label)\n",
    "        all_accuracy_gender.append(acc_gender)\n",
    "        all_val_loss_gender.append(best_val_loss_gender)\n",
    "        print(f'TEST ACCURACY: {round(acc_gender*100,2)}% | Val. Accuracy: {round(best_acc_gender*100,2)}% | Val. Loss.: {best_val_loss_gender}\\n')\n",
    "        \n",
    "        all_stat_fold.append(all_stat)\n",
    "\n",
    "    all_accuracy_gender = np.array(all_accuracy_gender)\n",
    "    all_val_loss_gender = np.array(all_val_loss_gender)\n",
    "\n",
    "    mean_accuracy_gender = round(all_accuracy_gender.mean()*100, 2)\n",
    "    sem_accuracy_gender = round(sem(all_accuracy_gender)*100, 2)\n",
    "\n",
    "    print(f'\\nOverall Accuracy: {mean_accuracy_gender} p/m {sem_accuracy_gender}')\n",
    "\n",
    "    with open('gender_results_mixup.pkl','wb') as fr:\n",
    "        pickle.dump(all_stat_fold, fr)"
   ]
  },
  {
   "cell_type": "code",
   "execution_count": 58,
   "id": "imperial-alcohol",
   "metadata": {},
   "outputs": [
    {
     "name": "stderr",
     "output_type": "stream",
     "text": [
      "<ipython-input-15-c5aa7d387409>:21: UserWarning: To copy construct from a tensor, it is recommended to use sourceTensor.clone().detach() or sourceTensor.clone().detach().requires_grad_(True), rather than torch.tensor(sourceTensor).\n",
      "  return torch.tensor(image, dtype=torch.float), torch.tensor(label_gender, dtype=torch.long)\n"
     ]
    },
    {
     "name": "stdout",
     "output_type": "stream",
     "text": [
      "3 160 160\n",
      "[[9.5876116e-01 4.1238792e-02]\n",
      " [1.8236328e-02 9.8176366e-01]\n",
      " [9.2943913e-01 7.0560843e-02]\n",
      " [3.6539248e-01 6.3460755e-01]\n",
      " [7.9720098e-01 2.0279896e-01]\n",
      " [4.6609515e-01 5.3390491e-01]\n",
      " [9.4280070e-01 5.7199296e-02]\n",
      " [7.2141963e-01 2.7858037e-01]\n",
      " [7.7613461e-01 2.2386536e-01]\n",
      " [1.1871895e-03 9.9881279e-01]\n",
      " [9.6220696e-01 3.7793010e-02]\n",
      " [8.1309229e-01 1.8690769e-01]\n",
      " [5.0168973e-01 4.9831021e-01]\n",
      " [4.8304936e-01 5.1695061e-01]\n",
      " [7.0257729e-01 2.9742265e-01]\n",
      " [9.7749889e-01 2.2501113e-02]\n",
      " [2.9968497e-01 7.0031500e-01]\n",
      " [8.7733710e-01 1.2266290e-01]\n",
      " [8.1809806e-03 9.9181902e-01]\n",
      " [4.8197713e-03 9.9518025e-01]\n",
      " [8.3228876e-04 9.9916768e-01]\n",
      " [5.9997465e-02 9.4000256e-01]\n",
      " [9.7623062e-01 2.3769410e-02]\n",
      " [3.7305027e-01 6.2694967e-01]\n",
      " [4.9583393e-01 5.0416613e-01]\n",
      " [9.0613741e-01 9.3862593e-02]\n",
      " [1.3491762e-01 8.6508238e-01]\n",
      " [8.4163463e-01 1.5836534e-01]\n",
      " [9.8471975e-01 1.5280194e-02]\n",
      " [9.7106940e-01 2.8930627e-02]\n",
      " [9.6003884e-01 3.9961219e-02]\n",
      " [9.5296872e-01 4.7031287e-02]\n",
      " [2.0396528e-01 7.9603475e-01]\n",
      " [9.0717828e-01 9.2821695e-02]\n",
      " [7.5693297e-01 2.4306704e-01]\n",
      " [3.1526377e-03 9.9684733e-01]\n",
      " [9.5265096e-01 4.7349047e-02]\n",
      " [9.3958497e-01 6.0415007e-02]\n",
      " [2.2077373e-01 7.7922630e-01]\n",
      " [8.2824123e-01 1.7175877e-01]\n",
      " [9.6702695e-01 3.2973051e-02]\n",
      " [1.2539637e-03 9.9874604e-01]\n",
      " [3.9445171e-03 9.9605548e-01]\n",
      " [6.7771971e-01 3.2228029e-01]\n",
      " [7.7069653e-03 9.9229300e-01]\n",
      " [9.7012806e-01 2.9871959e-02]\n",
      " [5.7748961e-01 4.2251042e-01]\n",
      " [9.9246698e-03 9.9007529e-01]\n",
      " [8.0017582e-02 9.1998243e-01]\n",
      " [9.5382428e-01 4.6175662e-02]\n",
      " [1.1349370e-01 8.8650626e-01]\n",
      " [8.5906762e-01 1.4093235e-01]\n",
      " [3.9128494e-03 9.9608719e-01]\n",
      " [9.6985179e-01 3.0148227e-02]\n",
      " [9.6062511e-01 3.9374843e-02]\n",
      " [4.1256973e-01 5.8743024e-01]\n",
      " [8.7484914e-01 1.2515090e-01]\n",
      " [2.0970395e-02 9.7902966e-01]\n",
      " [5.6758738e-01 4.3241262e-01]\n",
      " [7.8797168e-01 2.1202832e-01]\n",
      " [3.8839806e-02 9.6116018e-01]\n",
      " [2.6392680e-01 7.3607320e-01]\n",
      " [9.6416748e-01 3.5832535e-02]\n",
      " [9.4423932e-01 5.5760644e-02]]\n",
      "3 160 160\n"
     ]
    },
    {
     "ename": "TypeError",
     "evalue": "expected Tensor as element 0 in argument 0, but got numpy.ndarray",
     "output_type": "error",
     "traceback": [
      "\u001b[0;31m---------------------------------------------------------------------------\u001b[0m",
      "\u001b[0;31mTypeError\u001b[0m                                 Traceback (most recent call last)",
      "\u001b[0;32m<ipython-input-58-62303af638d3>\u001b[0m in \u001b[0;36m<module>\u001b[0;34m\u001b[0m\n\u001b[1;32m      5\u001b[0m     \u001b[0mpred_gender\u001b[0m \u001b[0;34m=\u001b[0m \u001b[0mmodel\u001b[0m\u001b[0;34m(\u001b[0m\u001b[0mbatch_data\u001b[0m\u001b[0;34m)\u001b[0m\u001b[0;34m\u001b[0m\u001b[0;34m\u001b[0m\u001b[0m\n\u001b[1;32m      6\u001b[0m \u001b[0;34m\u001b[0m\u001b[0m\n\u001b[0;32m----> 7\u001b[0;31m     test_pred_gender = torch.cat((test_pred_gender, \n\u001b[0m\u001b[1;32m      8\u001b[0m                             nn.functional.softmax(pred_gender.detach(),dim=1)), 0)\n\u001b[1;32m      9\u001b[0m \u001b[0;34m\u001b[0m\u001b[0m\n",
      "\u001b[0;31mTypeError\u001b[0m: expected Tensor as element 0 in argument 0, but got numpy.ndarray"
     ]
    }
   ],
   "source": [
    "test_pred_gender = torch.empty(0).to(device)\n",
    "for batch in test_loader:\n",
    "    batch_data, batch_label = batch\n",
    "    print(len(batch_data[0]),len(batch_data[0][0]),len(batch_data[0][0][0]))\n",
    "    pred_gender = model(batch_data)\n",
    "               \n",
    "    test_pred_gender = torch.cat((test_pred_gender, \n",
    "                            nn.functional.softmax(pred_gender.detach(),dim=1)), 0)\n",
    "    \n",
    "    test_pred_gender = test_pred_gender.cpu().numpy()\n",
    "    print(test_pred_gender)"
   ]
  },
  {
   "cell_type": "code",
   "execution_count": 57,
   "id": "public-shuttle",
   "metadata": {},
   "outputs": [
    {
     "name": "stdout",
     "output_type": "stream",
     "text": [
      "[3, 3, 0, 0, 3, 0, 1, 0, 1, 1, 0, 1, 1, 3, 1, 3, 1, 1, 3, 1, 1, 1, 0, 1, 3, 1, 1, 3, 1, 1, 0, 3, 1, 0, 1, 1, 0, 0, 1, 1, 1, 3, 3, 3, 3, 3, 1, 3, 1, 0, 1, 1, 3, 3, 1, 1, 0, 1, 1, 1, 1, 1, 3, 3, 1, 1, 3, 1, 1, 0, 3, 1, 3, 1, 3, 3, 3, 3, 0, 0, 1, 3, 1, 1, 3, 1, 1, 3, 1, 0, 1, 1, 1, 1, 1, 1, 3, 3, 3, 1, 3, 1, 0, 0, 1, 3, 1, 1, 0, 0, 1, 1, 0, 1, 1, 0, 3, 1, 1, 3, 3, 1, 1, 0, 3, 1, 1, 1, 1, 1, 0, 1, 1, 0, 3, 1, 1, 1, 1, 0, 1, 0, 1, 3, 1, 1, 1, 1, 1, 3, 1, 1, 1, 1, 1, 1, 1, 0, 0, 1, 0, 1, 1, 3, 3, 3, 1, 1, 1, 3, 3, 0, 3, 1, 1, 1, 0, 1, 1, 0, 1, 3, 0, 3, 1, 0, 1, 3, 3, 3, 0, 3, 1, 3, 1, 0, 3, 3, 3, 3, 1, 1, 1, 1, 3, 1, 1, 0, 0, 1, 3, 0, 3, 3, 0, 1, 1, 3, 3, 1, 1, 1, 1, 1, 3, 3, 1, 1, 0, 0, 1, 3, 3, 0, 0, 0, 1, 3, 3, 1, 1, 0, 3, 1, 1, 3, 0, 3, 1, 3, 0, 3, 3, 0, 1, 3, 0, 3, 3, 0, 1, 1, 1, 1, 3, 1, 3, 3, 3, 0, 3, 3, 3, 3, 3, 3, 1, 3, 1, 1, 1, 1, 1, 1, 1, 3, 1, 1, 1, 1, 1, 0, 0, 1, 1, 3, 0, 3, 0, 1, 3, 3, 1, 1, 1, 3, 3, 1, 1, 3, 0, 1, 1, 1, 3, 3, 1, 3, 1, 3, 1, 3, 3, 1, 1, 3, 0, 1, 1, 0, 1, 1, 3, 3, 0, 3, 1, 0, 1, 3, 1, 3, 3, 1, 3, 0, 1, 1, 1, 3, 1, 0, 1, 1, 1, 3, 1, 1, 3, 1, 0, 1, 1, 1, 1, 3, 1, 0, 0, 3, 3, 0, 3, 0, 0, 1, 1, 1, 1, 3, 1, 0, 0, 1, 0, 0, 1, 0, 1, 3, 3, 1, 1, 3, 3, 1, 1, 0, 0, 0, 1, 1, 0, 3, 3, 3, 1, 0, 3, 3, 1, 1, 0, 0, 1, 3, 3, 3, 1, 1, 3, 0, 3, 0, 1, 1, 3, 0, 1, 3, 3, 1, 1, 0, 3, 1, 1, 1, 1, 1, 1, 1, 3, 3, 1, 3, 1, 0, 0, 1, 1, 3, 1, 1, 1, 1, 3, 1, 1, 1, 1, 1, 3, 1, 1, 1, 0, 3, 3, 3, 1, 1, 3, 3, 1, 3, 3, 1, 3, 1, 3, 1, 3, 1, 1, 1, 1, 1, 1, 1, 1, 1, 1, 3, 3, 0, 1, 1, 1, 1, 3, 3, 0, 0, 3, 3, 3, 3, 1, 3, 3, 1, 0, 3, 3, 0, 1, 1, 1, 0, 3, 3, 0, 3, 1, 3, 3, 1, 1, 1, 1, 1, 0, 1, 3, 1, 3, 0, 1, 1, 1, 1, 1, 3, 3, 3, 3, 3, 1, 3, 3, 0, 1, 1, 1, 1, 1, 3, 0, 1, 1, 0, 1, 1, 3, 0, 1, 1, 0, 3, 3, 0, 0, 1, 1, 1, 3, 3, 1, 1, 1, 1, 1, 1, 3, 3, 1, 1, 1, 1, 1, 3, 3, 1, 1, 1, 0, 1, 3, 3, 3, 1, 1, 0, 3, 1, 3, 3, 1, 3, 1, 0, 1, 0, 0, 1, 3, 3, 3, 3, 0, 3, 3, 1, 3, 1, 1, 1, 0, 3, 1, 1, 1, 1, 1, 1, 1, 3, 3, 1, 0, 1, 1, 1, 1, 1, 1, 0, 1, 1, 1, 3, 1, 1, 3, 0, 3, 3, 0, 3, 3, 3, 3, 0, 1, 1, 1, 3, 1, 0, 3, 1, 1, 3, 3, 0, 3, 1, 1, 0, 1, 1, 0, 1, 3, 0, 3, 3, 1, 1, 0, 1, 1, 1, 0, 3, 3, 1, 3, 3, 3, 3, 3, 1, 1, 0, 1, 1, 1, 1, 0, 1, 0, 3, 1, 3, 1, 3, 3, 0, 1, 1, 1, 1, 1, 0, 1, 3, 1, 3, 0, 1, 1, 1, 3, 3, 1, 1, 1, 0, 1, 1, 1, 1, 1, 1, 1, 1, 1, 1, 1, 1, 1, 1, 1, 1, 1, 1, 1, 1, 1, 1, 1, 1, 1, 3, 1, 1, 1, 1, 1, 1, 1, 1, 1, 1, 1, 1, 3, 1, 1, 1, 1, 3, 1, 1, 3, 1, 1, 1, 1, 1, 1, 1, 1, 1, 1, 1, 3, 1, 1, 3, 1, 1, 1, 1, 1, 1, 2, 3, 1, 1, 1, 1, 1, 3, 3, 1, 3, 1, 1, 1, 1, 3, 1, 1, 1, 1, 1, 3, 1, 3, 3, 1, 3, 1, 1, 3, 3, 1, 1, 1, 1, 1, 1, 3, 1, 1, 1, 3, 1, 1, 1, 1, 1, 1, 1, 3, 1, 1, 1, 1, 1, 1, 1, 1, 1, 1, 3, 3, 3, 1, 1, 1, 1, 1, 1, 3, 1, 1, 1, 1, 1, 1, 3, 1, 1, 3, 1, 1, 1, 3, 3, 1, 3, 1, 1, 1, 1, 1, 1, 1, 1, 1, 3, 1, 1, 1, 1, 1, 1, 1, 1, 3, 1, 1, 3, 3, 3, 1, 1, 1, 1, 1, 1, 1, 1, 1, 1, 1, 1, 1, 1, 3, 1, 1, 1, 1, 1, 1, 1, 3, 3, 3, 1, 1, 1, 1, 1, 3, 3, 1, 1, 1, 3, 1, 1, 1, 3, 1, 1, 1, 1, 1, 1, 1, 1, 1, 1, 1, 1, 3, 1, 1, 1, 1, 3, 1, 1, 1, 1, 1, 1, 1, 1, 1, 1, 1, 1, 1, 1, 1, 1, 1, 1, 1, 1, 1, 1, 1, 1, 3, 1, 3, 1, 1, 3, 3, 1, 1, 1, 1, 1, 1, 1, 1, 3, 1, 1, 1, 1, 1, 1, 1, 1, 1, 1, 1, 1, 1, 1, 1, 1, 1, 1, 1, 1, 1, 1, 1, 1, 1, 1, 1, 1, 1, 1, 1, 1, 1, 1, 1, 1, 1, 1, 1, 1, 1, 1, 1, 1, 1, 1, 1, 1, 1, 1, 1, 1, 3, 1, 1, 1, 1, 1, 1, 1, 1, 1, 1, 1, 3, 1, 0, 1, 3, 0, 3, 1, 3, 1, 1, 3, 3, 3, 0, 0, 0, 0, 3, 1, 0, 3, 1, 0, 0, 0, 1, 1, 0, 3, 3, 0, 1, 1, 1, 1, 0, 0, 1, 1, 1, 1, 1, 1, 3, 0, 3, 0, 3, 0, 1, 1, 0, 0, 0, 0, 3, 3, 0, 3, 1, 1, 0, 1, 0, 1, 1, 3, 3, 1, 1, 1, 1, 1, 1, 2, 1, 1, 3, 1, 2, 3, 0, 1, 3, 3, 1, 0, 0, 0, 0, 1, 0, 0, 1, 0, 0, 1, 1, 0, 1, 0, 1, 1, 0, 1, 0, 1, 1, 1, 1, 0, 1, 1, 3, 1, 1, 1, 0, 1, 1, 1, 0, 1, 0, 1, 1, 1, 0, 1, 1, 0, 0, 1, 0, 1, 0, 0, 1, 1, 1, 3, 3, 0, 1, 0, 0, 1, 1, 0, 1, 0, 0, 1, 1, 0, 1, 1, 0, 1, 1, 1, 1, 2, 1, 0, 1, 0, 0, 3, 0, 0, 0, 1, 0, 1, 0, 1, 1, 1, 1, 1, 2, 2, 3, 1, 3, 3, 0, 0, 0, 1, 0, 0, 1, 3, 3, 1, 1, 0, 3, 0, 0, 0, 1, 1, 1, 3, 3, 0, 0, 1, 1, 1, 0, 1, 0, 0, 1, 1, 1, 0, 0, 2, 0, 1, 1, 1, 0, 0, 0, 0, 1, 3, 1, 2, 1, 0, 3, 0, 1, 3, 3, 1, 0, 1, 0, 0, 1, 1, 1, 0, 1, 1, 1, 1, 1, 1, 1, 1, 1, 2, 3, 0, 3, 1, 1, 0, 0, 1, 1, 1, 1, 0, 0, 0, 1, 3, 1, 3, 0, 0, 0, 3, 0, 1, 1, 1, 3, 0, 0, 1, 1, 0, 1, 1, 1, 1, 0, 1, 0, 0, 0, 1, 0, 0, 3, 0, 3, 0, 2, 0, 1, 0, 0, 1, 2, 0, 0, 1, 1, 1, 1, 1, 1, 1, 1, 0, 3, 3, 0, 3, 3, 0, 3, 3, 3, 0, 0, 3, 3, 3, 3, 3, 0, 3, 3, 0, 0, 3, 3, 0, 0, 3, 3, 3, 3, 0, 0, 0, 3, 0, 0, 0, 0, 3, 3, 3, 3, 3, 3, 3, 3, 3, 0, 3, 0, 0, 0, 0, 3, 3, 0, 3, 3, 3, 0, 3, 0, 0, 0, 0, 3, 3, 0, 3, 3, 3, 3, 3, 3, 3, 3, 3, 3, 3, 3, 0, 0, 3, 3, 3, 3, 0, 0, 3, 3, 3, 0, 3, 0, 0, 0, 3, 3, 3, 3, 0, 0, 3, 3, 3, 3, 3, 3, 3, 3, 3, 3, 0, 3, 0, 3, 3, 3, 3, 3, 3, 3, 0, 3, 3, 0, 0, 0, 3, 3, 3, 3, 3, 3, 3, 0, 3, 3, 3, 3, 3, 3, 3, 3, 3, 3, 0, 3, 0, 3, 3, 3, 0, 3, 3, 3, 3, 3, 3, 3, 0, 3, 3, 3, 0, 0, 0, 3, 3, 3, 3, 3, 0, 0, 0, 3, 3, 3, 0, 3, 3, 3, 0, 3, 3, 3, 3, 3, 3, 3, 3, 3, 3, 3, 3, 0, 3, 3, 3, 3, 3, 0, 0, 3, 3, 3, 3, 0, 0, 0, 3, 0, 0, 3, 3, 3, 3, 0, 3, 0, 0, 3, 3, 0, 0, 3, 3, 3, 3, 3, 3, 3, 3, 3, 3, 3, 3, 3, 0, 0, 3, 3, 0, 3, 3, 3, 0, 3, 0, 3, 3, 3, 3, 3, 0, 0, 0, 0, 3, 0, 3, 3, 3, 3, 0, 3, 3, 3, 3, 3, 3, 0, 3, 0, 3, 0, 3, 1, 1, 1, 1, 1, 1, 1, 1, 1, 1, 1, 1, 1, 1, 1, 3, 1, 3, 1, 1, 3, 1, 3, 1, 1, 1, 3, 1, 3, 1, 1, 1, 1, 1, 3, 3, 1, 1, 1, 3, 3, 1, 1, 1, 1, 1, 1, 1, 1, 3, 1, 1, 1, 3, 1, 1, 1, 1, 1, 1, 3, 3, 1, 3, 1, 1, 1, 1, 1, 1, 1, 1, 1, 1, 1, 3, 1, 1, 1, 1, 3, 1, 1, 1, 1, 1, 1, 1, 1, 1, 1, 1, 3, 1, 1, 1, 1, 1, 1, 1, 1, 3, 1, 1, 1, 3, 1, 1, 1, 1, 1, 1, 1, 3, 3, 1, 1, 1, 1, 1, 1, 3, 1, 3, 3, 1, 1, 1, 3, 1, 3, 1, 1, 1, 1, 3, 3, 1, 1, 1, 3, 3, 1, 1, 1, 1, 1, 1, 1, 1, 1, 1, 1, 1, 1, 3, 1, 1, 1, 3, 1, 1, 1, 1, 3, 1, 1, 1, 3, 1, 1, 3, 1, 1, 1, 1, 1, 1, 1, 1, 1, 1, 3, 1, 1, 3, 1, 1, 3, 1, 1, 1, 1, 1, 3, 1, 3, 3, 1, 1, 1, 1, 1, 3, 1, 1, 3, 1, 3, 3, 1, 1, 1, 1, 1, 1, 1, 1, 1, 3, 1, 1, 3, 1, 1, 1, 3, 1, 1, 1, 1, 1, 3, 1, 3, 1, 1, 1, 1, 1, 1, 3, 1, 1, 3, 1, 1, 1, 1, 1, 1, 1, 1, 3, 1, 1, 1, 1, 3, 1, 3, 3, 1, 1, 1, 1, 1, 1, 1, 1, 3, 1, 1, 1, 1, 1, 1, 1, 1, 3, 1, 1, 1, 1, 1, 3, 1, 1, 1, 1, 3, 1, 1, 1, 1, 1, 1, 1, 3, 2, 2, 2, 2, 2, 2, 2, 2, 2, 2, 2, 2, 2, 2, 2, 2, 2, 2, 2, 2, 2, 3, 3, 2, 2, 2, 2, 2, 2, 2, 2, 2, 2, 2, 2, 2, 2, 2, 2, 2, 2, 2, 2, 2, 2, 2, 2, 2, 2, 2, 2, 2, 2, 2, 2, 2, 2, 2, 2, 2, 2, 2, 3, 2, 2, 2, 2, 2, 2, 3, 2, 2, 2, 2, 2, 2, 2, 2, 2, 2, 2, 2, 2, 2, 2, 2, 2, 2, 2, 2, 2, 2, 2, 2, 2, 2, 2, 2, 2, 2, 2, 2, 2, 2, 2, 2, 2, 2, 2, 2, 2, 2, 2, 2, 2, 2, 2, 2, 2, 2, 1, 1, 1, 1, 1, 1, 1, 1, 1, 1, 1, 1, 1, 1, 1, 1, 1, 1, 1, 1, 1, 1, 1, 1, 1, 1, 1, 1, 1, 1, 1, 1, 1, 1, 1, 1, 1, 1, 1, 1, 1, 1, 1, 1, 1, 1, 1, 1, 1, 1, 1, 1, 1, 1, 1, 1, 1, 1, 1, 1, 1, 1, 1, 1, 1, 1, 1, 1, 1, 1, 1, 1, 2, 1, 1, 1, 1, 1, 1, 1, 1, 1, 1, 1, 1, 1, 1, 1, 1, 1, 1, 1, 1, 1, 1, 1, 1, 1, 1, 1, 1, 1, 1, 1, 1, 1, 1, 1, 1, 1, 1, 1, 1, 1, 1, 1, 1, 1, 1, 1, 1, 1, 1, 1, 1, 1, 1, 1, 1, 1, 1, 1, 1, 1, 1, 1, 1, 1, 1, 1, 1, 1, 1, 1, 1, 1, 1, 1, 1, 1, 1, 1, 1, 1, 1, 1, 1, 1, 1, 1, 1, 1, 1, 1, 1, 1, 1, 2, 1, 2, 2, 2, 2, 2, 2, 2, 2, 2, 2, 2, 2, 2, 2, 2, 2, 2, 2, 2, 2, 2, 2, 2, 2, 2, 2, 2, 2, 2, 2, 2, 2, 2, 2, 2, 2, 2, 2, 2, 2, 2, 2, 2, 2, 2, 2, 2, 2, 2, 2, 2, 2, 2, 2, 2, 2, 2, 1, 2, 2, 2, 2, 2, 2, 2, 2, 2, 2, 2, 2, 2, 2, 2, 2, 2, 2, 2, 2, 2, 2, 2, 1, 2, 2, 2, 2, 2, 2, 2, 2, 2, 2, 2, 2, 2, 2, 2, 2, 2, 3, 2, 2, 2, 2, 2, 2, 2, 2, 2, 2, 2, 2, 2, 2, 2, 2, 2, 2, 2, 2, 2, 2, 2, 2, 2, 2, 2, 2, 2, 2, 2, 2, 2, 2, 2, 2, 1, 2, 2, 2, 2, 2, 2, 2, 2, 2, 2, 2, 2, 2, 2, 2, 2, 2, 2, 2, 2, 2, 2, 2, 3, 2, 2, 2, 2, 2, 2, 2, 2, 2, 2, 1, 2, 2, 2, 2, 2, 2, 3, 1, 3, 0, 3, 0, 3, 3, 1, 1, 0, 0, 3, 1, 1, 0, 0, 3, 1, 1, 0, 1, 3, 1, 3, 3, 1, 1, 1, 0, 1, 3, 1, 3, 1, 3, 1, 3, 1, 1, 0, 1, 1, 0, 3, 3, 0, 0, 0, 3, 1, 1, 1, 1, 3, 1, 0, 3, 1, 1, 0, 3, 1, 0, 3, 1, 1, 0, 1, 0, 0, 1, 3, 0, 0, 3, 0, 1, 3, 1, 0, 1, 0, 1, 1, 0, 1, 0, 3, 3, 3, 0, 1, 3, 1, 1, 1, 0, 3, 3, 0, 0, 0, 0, 3, 0, 3, 1, 1, 0, 3, 3, 3, 3, 1, 1, 0, 3, 0, 3, 1, 0, 1, 3, 3, 1, 1, 0, 0, 0, 3, 1, 1, 0, 0, 3, 3, 1, 0, 1, 3, 3, 1, 1, 0, 3, 2, 3, 2, 2, 2, 2, 3, 2, 3, 3, 1, 2, 3, 2, 3, 3, 3, 3, 3, 3, 3, 3, 3, 3, 2, 2, 2, 3, 3, 3, 1, 3, 3, 3, 2, 3, 3, 2, 3, 3, 3, 1, 3, 3, 3, 3, 2, 2, 3, 3, 3, 2, 3, 2, 2, 3, 3, 3, 3, 3, 3, 2, 3, 2, 3, 2, 3, 2, 3, 3, 3, 3, 3, 2, 3, 2, 3, 2, 1, 2, 3, 3, 2, 2, 3, 3, 3, 3, 3, 3, 1, 3, 3, 2, 2, 3, 2, 2, 2, 1, 0, 0, 0, 0, 0, 0, 0, 0, 0, 0, 2, 0, 0, 3, 3, 0, 0, 3, 0, 2, 0, 2, 0, 2, 0, 0, 0, 2, 0, 0, 0, 0, 0, 0, 0, 0, 0, 0, 0, 0, 0, 2, 0, 0, 2, 0, 0, 0, 0, 0, 0, 0, 2, 0, 3, 3, 0, 0, 0, 0, 2, 0, 0, 0, 0, 0, 0, 0, 0, 0, 0, 0, 0, 2, 0, 0, 0, 0, 0, 0, 0, 3, 0, 0, 2, 2, 2, 2, 2, 2, 2, 2, 2, 2, 2, 2, 2, 2, 2, 2, 2, 2, 2, 2, 2, 2, 2, 2, 2, 2, 2, 2, 2, 2, 2, 2, 2, 2, 2, 2, 2, 2, 2, 2, 2, 2, 2, 2, 2, 2, 2, 2, 2, 2, 2, 2, 2, 2, 2, 2, 2, 2, 2, 2, 2, 2, 2, 2, 2, 2, 2, 2, 2, 2, 2, 2, 2, 2, 2, 2, 2, 2, 2, 2, 2, 2, 2, 2, 2, 2, 2, 2, 2, 2, 2, 2, 2, 2, 2, 2, 2, 2, 2, 2, 2, 2, 1, 2, 2, 2, 2, 2, 2, 2, 2, 2, 2, 2, 2, 2, 2, 2, 2, 2, 2, 2, 2, 2, 2, 2, 2, 2, 2, 2, 2, 2, 2, 2, 2, 2, 2, 2, 1, 3, 2, 2, 2, 2, 2, 2, 2, 2, 2, 2, 2, 2, 2, 2, 3, 3, 3, 3, 3, 3, 3, 3, 3, 3, 3, 3, 3, 3, 3, 3, 3, 3, 3, 3, 3, 3, 3, 3, 3, 3, 3, 3, 3, 3, 3, 3, 3, 3, 3, 3, 3, 3, 3, 3, 2, 3, 3, 3, 3, 3, 3, 3, 3, 3, 3, 3, 3, 3, 3, 3, 3, 3, 3, 3, 3, 3, 3, 3, 3, 3, 3, 3, 3, 3, 3, 3, 3, 3, 3, 3, 3, 3, 3, 3, 3, 3, 3, 3, 3, 3, 1, 0, 1, 1, 1, 1, 0, 1, 1, 1, 1, 1, 3, 3, 1, 1, 1, 1, 1, 1, 1, 1, 1, 1, 1, 3, 1, 1, 1, 1, 1, 1, 1, 1, 1, 1, 1, 1, 3, 1, 1, 1, 1, 1, 1, 1, 1, 1, 1, 1, 1, 1, 1, 1, 1, 1, 0, 1, 1, 3, 1, 3, 1, 0, 1, 0, 1, 3, 1, 1, 1, 3, 1, 1, 0, 1, 1, 0, 1, 1, 0, 1, 3, 3, 3, 3, 3, 3, 3, 3, 3, 3, 3, 3, 3, 3, 3, 3, 3, 3, 3, 3, 3, 3, 3, 3, 3, 3, 3, 3, 3, 3, 3, 3, 3, 3, 3, 3, 3, 3, 3, 3, 3, 3, 3, 3, 3, 3, 3, 3, 3, 3, 3, 3, 3, 3, 3, 3, 3, 3, 3, 3, 3, 3, 3, 3, 3, 3, 3, 3, 3, 3, 3, 3, 3, 3, 3, 3, 3, 3, 3, 3, 3, 3, 3, 3, 3, 3, 2, 2, 1, 3, 3, 3, 2, 2, 2, 2, 2, 2, 2, 3, 2, 3, 2, 3, 2, 1, 2, 3, 2, 2, 2, 3, 2, 1, 2, 3, 1, 1, 2, 3, 3, 3, 3, 2, 2, 3, 3, 2, 2, 2, 2, 2, 1, 3, 2, 2, 2, 2, 2, 2, 3, 2, 2, 2, 2, 3, 2, 2, 2, 2, 3, 2, 3, 2, 1, 2, 3, 2, 3, 2, 2, 3, 2, 3, 3, 3, 2, 2, 3, 3, 2, 2, 3, 1, 2, 1, 2, 3, 1, 2, 3, 3, 0, 3, 2, 3, 3, 3, 3, 3, 3, 3, 3, 3, 2, 2, 3, 3, 3, 3, 3, 0, 3, 3, 2, 3, 3, 2, 3, 3, 2, 3, 3, 3, 3, 3, 2, 3, 2, 3, 3, 1, 3, 2, 0, 3, 3, 3, 3, 3, 2, 3, 3, 2, 3, 3, 2, 3, 3, 3, 3, 1, 1, 1, 3, 3, 1, 3, 3, 3, 1, 1, 1, 1, 1, 1, 1, 1, 1, 1, 3, 1, 1, 1, 3, 3, 1, 1, 1, 3, 1, 3, 1, 1, 1, 1, 3, 1, 2, 2, 2, 2, 2, 2, 2, 2, 2, 1, 1, 2, 2, 2, 2, 2, 2, 2, 2, 2, 2, 2, 1, 2, 2, 0, 2, 2, 2, 1, 0, 2, 2, 2, 1, 0, 2, 2, 2, 2, 2, 2, 1, 3, 1, 3, 2, 2, 2, 1, 2, 3, 2, 3, 1, 2, 3, 2, 2, 3, 3, 2, 2, 2, 3, 2, 3, 1, 3, 1, 1, 3, 2, 3, 2, 1, 0, 0, 1, 0, 0, 1, 0, 1, 1, 2, 0, 1, 0, 2, 2, 2, 0, 0, 1, 0, 0, 0, 1, 2, 1, 0, 2, 1, 1, 0, 1, 1, 0, 1, 0, 1, 3, 1, 1, 1, 1, 1, 1, 3, 1, 3, 1, 1, 3, 3, 1, 1, 3, 1, 1, 3, 3, 1, 3, 3, 2, 1, 2, 3, 2, 1, 2, 1, 3, 3, 3, 3, 3, 3, 3, 3, 3, 1, 2, 1, 2, 1, 1, 3, 2, 2, 1, 2, 1, 2, 1, 2, 2, 3, 1, 2, 1, 1, 1, 3, 3, 1, 1, 3, 2, 3, 1, 2, 2, 3, 3, 2, 3, 2, 0, 0, 0, 0, 0, 1, 0, 0, 0, 1, 1, 1, 1, 1, 1, 3, 1, 1, 1, 3, 1, 3, 1, 1, 1, 2]\n"
     ]
    }
   ],
   "source": [
    "print(test_age_label)"
   ]
  },
  {
   "cell_type": "code",
   "execution_count": 50,
   "id": "manufactured-corps",
   "metadata": {},
   "outputs": [
    {
     "data": {
      "text/plain": [
       "'dataset/faces/115321157@N03/coarse_tilt_aligned_face.1744.12111738395_a7f715aa4e_o.jpg'"
      ]
     },
     "execution_count": 50,
     "metadata": {},
     "output_type": "execute_result"
    }
   ],
   "source": [
    "test_fold[fold]['image_path'][0]"
   ]
  },
  {
   "cell_type": "code",
   "execution_count": null,
   "id": "excess-shopper",
   "metadata": {},
   "outputs": [],
   "source": []
  }
 ],
 "metadata": {
  "kernelspec": {
   "display_name": "Python 3",
   "language": "python",
   "name": "python3"
  },
  "language_info": {
   "codemirror_mode": {
    "name": "ipython",
    "version": 3
   },
   "file_extension": ".py",
   "mimetype": "text/x-python",
   "name": "python",
   "nbconvert_exporter": "python",
   "pygments_lexer": "ipython3",
   "version": "3.9.2"
  }
 },
 "nbformat": 4,
 "nbformat_minor": 5
}
